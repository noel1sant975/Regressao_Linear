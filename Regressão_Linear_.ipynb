{
  "nbformat": 4,
  "nbformat_minor": 0,
  "metadata": {
    "colab": {
      "name": "Regressão_Linear_.ipynb",
      "provenance": [],
      "collapsed_sections": []
    },
    "kernelspec": {
      "name": "python3",
      "display_name": "Python 3"
    }
  },
  "cells": [
    {
      "cell_type": "markdown",
      "metadata": {
        "id": "URZfArSpeTdP",
        "colab_type": "text"
      },
      "source": [
        "**Data Science - Regressão Linear**"
      ]
    },
    {
      "cell_type": "code",
      "metadata": {
        "id": "qXWILot1eXmv",
        "colab_type": "code",
        "colab": {}
      },
      "source": [
        "import pandas as pd\n",
        "import numpy as np"
      ],
      "execution_count": 0,
      "outputs": []
    },
    {
      "cell_type": "code",
      "metadata": {
        "id": "XiseIxBSeYbH",
        "colab_type": "code",
        "colab": {}
      },
      "source": [
        "import warnings \n",
        "warnings.filterwarnings('ignore') # ou warnings.filterwarnings(action='once')"
      ],
      "execution_count": 0,
      "outputs": []
    },
    {
      "cell_type": "markdown",
      "metadata": {
        "id": "jCBPgwg_eo9m",
        "colab_type": "text"
      },
      "source": [
        "**O Dataset e o Projeto**\n",
        "<hr>\n",
        "\n",
        "### Fonte: https://www.kaggle.com/greenwing1985/housepricing\n",
        "\n",
        "### Descrição:\n",
        "<p style='font-size: 18px; line-height: 2; margin: 10px 50px; text-align: justify;'>O objetivo neste projeto é criar um modelo de machine learning, utilizando a técnica de Regressão Linear, que faça previsões sobre os preços de imóveis a partir de um conjunto de características conhecidas dos imóveis.</p>\n",
        "\n",
        "<p style='font-size: 18px; line-height: 2; margin: 10px 50px; text-align: justify;'>Vou utilizar um dataset disponível no Kaggle. Este dataset foi modificado para facilitar o objetivo, que é treinamento de Regressão Linear.</p>\n",
        "\n",
        "### Dados:\n",
        "<ul style='font-size: 18px; line-height: 2; text-align: justify;'>\n",
        "    <li><b>precos</b> - Preços do imóveis</li>\n",
        "    <li><b>area</b> - Área do imóvel</li>\n",
        "    <li><b>garagem</b> - Número de vagas de garagem</li>\n",
        "    <li><b>banheiros</b> - Número de banheiros</li>\n",
        "    <li><b>lareira</b> - Número de lareiras</li>\n",
        "    <li><b>marmore</b> - Se o imóvel possui acabamento em mármore branco (1) ou não (0)</li>\n",
        "    <li><b>andares</b> - Se o imóvel possui mais de um andar (1) ou não (0)</li>\n",
        "</ul>"
      ]
    },
    {
      "cell_type": "markdown",
      "metadata": {
        "id": "v0CbsyE3flNo",
        "colab_type": "text"
      },
      "source": [
        "**Leitura dos dados**\n",
        "\n"
      ]
    },
    {
      "cell_type": "markdown",
      "metadata": {
        "id": "97bREkATfpwj",
        "colab_type": "text"
      },
      "source": [
        ""
      ]
    },
    {
      "cell_type": "code",
      "metadata": {
        "id": "pucRIjxzV2RF",
        "colab_type": "code",
        "colab": {}
      },
      "source": [
        "dados = pd.read_csv('HousePrices_HalfMil.csv', sep=',')"
      ],
      "execution_count": 0,
      "outputs": []
    },
    {
      "cell_type": "markdown",
      "metadata": {
        "id": "Qo5TVFPgf_pr",
        "colab_type": "text"
      },
      "source": [
        "## Visualizar os dados"
      ]
    },
    {
      "cell_type": "code",
      "metadata": {
        "id": "xMGk_B3MeYd2",
        "colab_type": "code",
        "colab": {
          "base_uri": "https://localhost:8080/",
          "height": 402
        },
        "outputId": "27e02e65-6bd9-4ea8-bb77-84433f2dea01"
      },
      "source": [
        "dados"
      ],
      "execution_count": 75,
      "outputs": [
        {
          "output_type": "execute_result",
          "data": {
            "text/html": [
              "<div>\n",
              "<style scoped>\n",
              "    .dataframe tbody tr th:only-of-type {\n",
              "        vertical-align: middle;\n",
              "    }\n",
              "\n",
              "    .dataframe tbody tr th {\n",
              "        vertical-align: top;\n",
              "    }\n",
              "\n",
              "    .dataframe thead th {\n",
              "        text-align: right;\n",
              "    }\n",
              "</style>\n",
              "<table border=\"1\" class=\"dataframe\">\n",
              "  <thead>\n",
              "    <tr style=\"text-align: right;\">\n",
              "      <th></th>\n",
              "      <th>Area</th>\n",
              "      <th>Garage</th>\n",
              "      <th>FirePlace</th>\n",
              "      <th>Baths</th>\n",
              "      <th>White Marble</th>\n",
              "      <th>Black Marble</th>\n",
              "      <th>Indian Marble</th>\n",
              "      <th>Floors</th>\n",
              "      <th>City</th>\n",
              "      <th>Solar</th>\n",
              "      <th>Electric</th>\n",
              "      <th>Fiber</th>\n",
              "      <th>Glass Doors</th>\n",
              "      <th>Swiming Pool</th>\n",
              "      <th>Garden</th>\n",
              "      <th>Prices</th>\n",
              "    </tr>\n",
              "  </thead>\n",
              "  <tbody>\n",
              "    <tr>\n",
              "      <th>0</th>\n",
              "      <td>164</td>\n",
              "      <td>2</td>\n",
              "      <td>0</td>\n",
              "      <td>2</td>\n",
              "      <td>0</td>\n",
              "      <td>1</td>\n",
              "      <td>0</td>\n",
              "      <td>0</td>\n",
              "      <td>3</td>\n",
              "      <td>1</td>\n",
              "      <td>1</td>\n",
              "      <td>1</td>\n",
              "      <td>1</td>\n",
              "      <td>0</td>\n",
              "      <td>0</td>\n",
              "      <td>43800</td>\n",
              "    </tr>\n",
              "    <tr>\n",
              "      <th>1</th>\n",
              "      <td>84</td>\n",
              "      <td>2</td>\n",
              "      <td>0</td>\n",
              "      <td>4</td>\n",
              "      <td>0</td>\n",
              "      <td>0</td>\n",
              "      <td>1</td>\n",
              "      <td>1</td>\n",
              "      <td>2</td>\n",
              "      <td>0</td>\n",
              "      <td>0</td>\n",
              "      <td>0</td>\n",
              "      <td>1</td>\n",
              "      <td>1</td>\n",
              "      <td>1</td>\n",
              "      <td>37550</td>\n",
              "    </tr>\n",
              "    <tr>\n",
              "      <th>2</th>\n",
              "      <td>190</td>\n",
              "      <td>2</td>\n",
              "      <td>4</td>\n",
              "      <td>4</td>\n",
              "      <td>1</td>\n",
              "      <td>0</td>\n",
              "      <td>0</td>\n",
              "      <td>0</td>\n",
              "      <td>2</td>\n",
              "      <td>0</td>\n",
              "      <td>0</td>\n",
              "      <td>1</td>\n",
              "      <td>0</td>\n",
              "      <td>0</td>\n",
              "      <td>0</td>\n",
              "      <td>49500</td>\n",
              "    </tr>\n",
              "    <tr>\n",
              "      <th>3</th>\n",
              "      <td>75</td>\n",
              "      <td>2</td>\n",
              "      <td>4</td>\n",
              "      <td>4</td>\n",
              "      <td>0</td>\n",
              "      <td>0</td>\n",
              "      <td>1</td>\n",
              "      <td>1</td>\n",
              "      <td>1</td>\n",
              "      <td>1</td>\n",
              "      <td>1</td>\n",
              "      <td>1</td>\n",
              "      <td>1</td>\n",
              "      <td>1</td>\n",
              "      <td>1</td>\n",
              "      <td>50075</td>\n",
              "    </tr>\n",
              "    <tr>\n",
              "      <th>4</th>\n",
              "      <td>148</td>\n",
              "      <td>1</td>\n",
              "      <td>4</td>\n",
              "      <td>2</td>\n",
              "      <td>1</td>\n",
              "      <td>0</td>\n",
              "      <td>0</td>\n",
              "      <td>1</td>\n",
              "      <td>2</td>\n",
              "      <td>1</td>\n",
              "      <td>0</td>\n",
              "      <td>0</td>\n",
              "      <td>1</td>\n",
              "      <td>1</td>\n",
              "      <td>1</td>\n",
              "      <td>52400</td>\n",
              "    </tr>\n",
              "    <tr>\n",
              "      <th>...</th>\n",
              "      <td>...</td>\n",
              "      <td>...</td>\n",
              "      <td>...</td>\n",
              "      <td>...</td>\n",
              "      <td>...</td>\n",
              "      <td>...</td>\n",
              "      <td>...</td>\n",
              "      <td>...</td>\n",
              "      <td>...</td>\n",
              "      <td>...</td>\n",
              "      <td>...</td>\n",
              "      <td>...</td>\n",
              "      <td>...</td>\n",
              "      <td>...</td>\n",
              "      <td>...</td>\n",
              "      <td>...</td>\n",
              "    </tr>\n",
              "    <tr>\n",
              "      <th>499995</th>\n",
              "      <td>128</td>\n",
              "      <td>3</td>\n",
              "      <td>4</td>\n",
              "      <td>2</td>\n",
              "      <td>1</td>\n",
              "      <td>0</td>\n",
              "      <td>0</td>\n",
              "      <td>1</td>\n",
              "      <td>2</td>\n",
              "      <td>0</td>\n",
              "      <td>1</td>\n",
              "      <td>0</td>\n",
              "      <td>1</td>\n",
              "      <td>1</td>\n",
              "      <td>1</td>\n",
              "      <td>55900</td>\n",
              "    </tr>\n",
              "    <tr>\n",
              "      <th>499996</th>\n",
              "      <td>30</td>\n",
              "      <td>2</td>\n",
              "      <td>4</td>\n",
              "      <td>5</td>\n",
              "      <td>0</td>\n",
              "      <td>0</td>\n",
              "      <td>1</td>\n",
              "      <td>0</td>\n",
              "      <td>1</td>\n",
              "      <td>0</td>\n",
              "      <td>0</td>\n",
              "      <td>1</td>\n",
              "      <td>0</td>\n",
              "      <td>0</td>\n",
              "      <td>1</td>\n",
              "      <td>29250</td>\n",
              "    </tr>\n",
              "    <tr>\n",
              "      <th>499997</th>\n",
              "      <td>174</td>\n",
              "      <td>3</td>\n",
              "      <td>3</td>\n",
              "      <td>2</td>\n",
              "      <td>0</td>\n",
              "      <td>1</td>\n",
              "      <td>0</td>\n",
              "      <td>1</td>\n",
              "      <td>1</td>\n",
              "      <td>1</td>\n",
              "      <td>1</td>\n",
              "      <td>1</td>\n",
              "      <td>0</td>\n",
              "      <td>1</td>\n",
              "      <td>0</td>\n",
              "      <td>51350</td>\n",
              "    </tr>\n",
              "    <tr>\n",
              "      <th>499998</th>\n",
              "      <td>121</td>\n",
              "      <td>1</td>\n",
              "      <td>4</td>\n",
              "      <td>5</td>\n",
              "      <td>0</td>\n",
              "      <td>1</td>\n",
              "      <td>0</td>\n",
              "      <td>1</td>\n",
              "      <td>3</td>\n",
              "      <td>0</td>\n",
              "      <td>1</td>\n",
              "      <td>1</td>\n",
              "      <td>1</td>\n",
              "      <td>0</td>\n",
              "      <td>0</td>\n",
              "      <td>62725</td>\n",
              "    </tr>\n",
              "    <tr>\n",
              "      <th>499999</th>\n",
              "      <td>46</td>\n",
              "      <td>2</td>\n",
              "      <td>4</td>\n",
              "      <td>4</td>\n",
              "      <td>1</td>\n",
              "      <td>0</td>\n",
              "      <td>0</td>\n",
              "      <td>0</td>\n",
              "      <td>1</td>\n",
              "      <td>1</td>\n",
              "      <td>1</td>\n",
              "      <td>0</td>\n",
              "      <td>0</td>\n",
              "      <td>0</td>\n",
              "      <td>0</td>\n",
              "      <td>32150</td>\n",
              "    </tr>\n",
              "  </tbody>\n",
              "</table>\n",
              "<p>500000 rows × 16 columns</p>\n",
              "</div>"
            ],
            "text/plain": [
              "        Area  Garage  FirePlace  ...  Swiming Pool  Garden  Prices\n",
              "0        164       2          0  ...             0       0   43800\n",
              "1         84       2          0  ...             1       1   37550\n",
              "2        190       2          4  ...             0       0   49500\n",
              "3         75       2          4  ...             1       1   50075\n",
              "4        148       1          4  ...             1       1   52400\n",
              "...      ...     ...        ...  ...           ...     ...     ...\n",
              "499995   128       3          4  ...             1       1   55900\n",
              "499996    30       2          4  ...             0       1   29250\n",
              "499997   174       3          3  ...             1       0   51350\n",
              "499998   121       1          4  ...             0       0   62725\n",
              "499999    46       2          4  ...             0       0   32150\n",
              "\n",
              "[500000 rows x 16 columns]"
            ]
          },
          "metadata": {
            "tags": []
          },
          "execution_count": 75
        }
      ]
    },
    {
      "cell_type": "code",
      "metadata": {
        "id": "IvpUwGXxeYow",
        "colab_type": "code",
        "colab": {
          "base_uri": "https://localhost:8080/",
          "height": 34
        },
        "outputId": "c5d618ff-3722-4bfa-dde4-f2584cfa1daa"
      },
      "source": [
        "dados.shape"
      ],
      "execution_count": 32,
      "outputs": [
        {
          "output_type": "execute_result",
          "data": {
            "text/plain": [
              "(500000, 16)"
            ]
          },
          "metadata": {
            "tags": []
          },
          "execution_count": 32
        }
      ]
    },
    {
      "cell_type": "markdown",
      "metadata": {
        "id": "1ryEnVyoZeDP",
        "colab_type": "text"
      },
      "source": [
        "**Estatísticas descritivas**"
      ]
    },
    {
      "cell_type": "code",
      "metadata": {
        "id": "KHaOftCweYuQ",
        "colab_type": "code",
        "colab": {
          "base_uri": "https://localhost:8080/",
          "height": 301
        },
        "outputId": "a61ddfe1-aa03-4c0c-f3a4-c8d86a506caa"
      },
      "source": [
        "dados.describe().round(2)"
      ],
      "execution_count": 78,
      "outputs": [
        {
          "output_type": "execute_result",
          "data": {
            "text/html": [
              "<div>\n",
              "<style scoped>\n",
              "    .dataframe tbody tr th:only-of-type {\n",
              "        vertical-align: middle;\n",
              "    }\n",
              "\n",
              "    .dataframe tbody tr th {\n",
              "        vertical-align: top;\n",
              "    }\n",
              "\n",
              "    .dataframe thead th {\n",
              "        text-align: right;\n",
              "    }\n",
              "</style>\n",
              "<table border=\"1\" class=\"dataframe\">\n",
              "  <thead>\n",
              "    <tr style=\"text-align: right;\">\n",
              "      <th></th>\n",
              "      <th>Area</th>\n",
              "      <th>Garage</th>\n",
              "      <th>FirePlace</th>\n",
              "      <th>Baths</th>\n",
              "      <th>White Marble</th>\n",
              "      <th>Black Marble</th>\n",
              "      <th>Indian Marble</th>\n",
              "      <th>Floors</th>\n",
              "      <th>City</th>\n",
              "      <th>Solar</th>\n",
              "      <th>Electric</th>\n",
              "      <th>Fiber</th>\n",
              "      <th>Glass Doors</th>\n",
              "      <th>Swiming Pool</th>\n",
              "      <th>Garden</th>\n",
              "      <th>Prices</th>\n",
              "    </tr>\n",
              "  </thead>\n",
              "  <tbody>\n",
              "    <tr>\n",
              "      <th>count</th>\n",
              "      <td>500000.00</td>\n",
              "      <td>500000.00</td>\n",
              "      <td>500000.00</td>\n",
              "      <td>500000.00</td>\n",
              "      <td>500000.00</td>\n",
              "      <td>500000.00</td>\n",
              "      <td>500000.00</td>\n",
              "      <td>500000.0</td>\n",
              "      <td>500000.00</td>\n",
              "      <td>500000.0</td>\n",
              "      <td>500000.0</td>\n",
              "      <td>500000.0</td>\n",
              "      <td>500000.0</td>\n",
              "      <td>500000.0</td>\n",
              "      <td>500000.0</td>\n",
              "      <td>500000.00</td>\n",
              "    </tr>\n",
              "    <tr>\n",
              "      <th>mean</th>\n",
              "      <td>124.93</td>\n",
              "      <td>2.00</td>\n",
              "      <td>2.00</td>\n",
              "      <td>3.00</td>\n",
              "      <td>0.33</td>\n",
              "      <td>0.33</td>\n",
              "      <td>0.33</td>\n",
              "      <td>0.5</td>\n",
              "      <td>2.00</td>\n",
              "      <td>0.5</td>\n",
              "      <td>0.5</td>\n",
              "      <td>0.5</td>\n",
              "      <td>0.5</td>\n",
              "      <td>0.5</td>\n",
              "      <td>0.5</td>\n",
              "      <td>42050.14</td>\n",
              "    </tr>\n",
              "    <tr>\n",
              "      <th>std</th>\n",
              "      <td>71.80</td>\n",
              "      <td>0.82</td>\n",
              "      <td>1.41</td>\n",
              "      <td>1.41</td>\n",
              "      <td>0.47</td>\n",
              "      <td>0.47</td>\n",
              "      <td>0.47</td>\n",
              "      <td>0.5</td>\n",
              "      <td>0.82</td>\n",
              "      <td>0.5</td>\n",
              "      <td>0.5</td>\n",
              "      <td>0.5</td>\n",
              "      <td>0.5</td>\n",
              "      <td>0.5</td>\n",
              "      <td>0.5</td>\n",
              "      <td>12110.24</td>\n",
              "    </tr>\n",
              "    <tr>\n",
              "      <th>min</th>\n",
              "      <td>1.00</td>\n",
              "      <td>1.00</td>\n",
              "      <td>0.00</td>\n",
              "      <td>1.00</td>\n",
              "      <td>0.00</td>\n",
              "      <td>0.00</td>\n",
              "      <td>0.00</td>\n",
              "      <td>0.0</td>\n",
              "      <td>1.00</td>\n",
              "      <td>0.0</td>\n",
              "      <td>0.0</td>\n",
              "      <td>0.0</td>\n",
              "      <td>0.0</td>\n",
              "      <td>0.0</td>\n",
              "      <td>0.0</td>\n",
              "      <td>7725.00</td>\n",
              "    </tr>\n",
              "    <tr>\n",
              "      <th>25%</th>\n",
              "      <td>63.00</td>\n",
              "      <td>1.00</td>\n",
              "      <td>1.00</td>\n",
              "      <td>2.00</td>\n",
              "      <td>0.00</td>\n",
              "      <td>0.00</td>\n",
              "      <td>0.00</td>\n",
              "      <td>0.0</td>\n",
              "      <td>1.00</td>\n",
              "      <td>0.0</td>\n",
              "      <td>0.0</td>\n",
              "      <td>0.0</td>\n",
              "      <td>0.0</td>\n",
              "      <td>0.0</td>\n",
              "      <td>0.0</td>\n",
              "      <td>33500.00</td>\n",
              "    </tr>\n",
              "    <tr>\n",
              "      <th>50%</th>\n",
              "      <td>125.00</td>\n",
              "      <td>2.00</td>\n",
              "      <td>2.00</td>\n",
              "      <td>3.00</td>\n",
              "      <td>0.00</td>\n",
              "      <td>0.00</td>\n",
              "      <td>0.00</td>\n",
              "      <td>0.0</td>\n",
              "      <td>2.00</td>\n",
              "      <td>0.0</td>\n",
              "      <td>1.0</td>\n",
              "      <td>1.0</td>\n",
              "      <td>0.0</td>\n",
              "      <td>1.0</td>\n",
              "      <td>1.0</td>\n",
              "      <td>41850.00</td>\n",
              "    </tr>\n",
              "    <tr>\n",
              "      <th>75%</th>\n",
              "      <td>187.00</td>\n",
              "      <td>3.00</td>\n",
              "      <td>3.00</td>\n",
              "      <td>4.00</td>\n",
              "      <td>1.00</td>\n",
              "      <td>1.00</td>\n",
              "      <td>1.00</td>\n",
              "      <td>1.0</td>\n",
              "      <td>3.00</td>\n",
              "      <td>1.0</td>\n",
              "      <td>1.0</td>\n",
              "      <td>1.0</td>\n",
              "      <td>1.0</td>\n",
              "      <td>1.0</td>\n",
              "      <td>1.0</td>\n",
              "      <td>50750.00</td>\n",
              "    </tr>\n",
              "    <tr>\n",
              "      <th>max</th>\n",
              "      <td>249.00</td>\n",
              "      <td>3.00</td>\n",
              "      <td>4.00</td>\n",
              "      <td>5.00</td>\n",
              "      <td>1.00</td>\n",
              "      <td>1.00</td>\n",
              "      <td>1.00</td>\n",
              "      <td>1.0</td>\n",
              "      <td>3.00</td>\n",
              "      <td>1.0</td>\n",
              "      <td>1.0</td>\n",
              "      <td>1.0</td>\n",
              "      <td>1.0</td>\n",
              "      <td>1.0</td>\n",
              "      <td>1.0</td>\n",
              "      <td>77975.00</td>\n",
              "    </tr>\n",
              "  </tbody>\n",
              "</table>\n",
              "</div>"
            ],
            "text/plain": [
              "            Area     Garage  FirePlace  ...  Swiming Pool    Garden     Prices\n",
              "count  500000.00  500000.00  500000.00  ...      500000.0  500000.0  500000.00\n",
              "mean      124.93       2.00       2.00  ...           0.5       0.5   42050.14\n",
              "std        71.80       0.82       1.41  ...           0.5       0.5   12110.24\n",
              "min         1.00       1.00       0.00  ...           0.0       0.0    7725.00\n",
              "25%        63.00       1.00       1.00  ...           0.0       0.0   33500.00\n",
              "50%       125.00       2.00       2.00  ...           1.0       1.0   41850.00\n",
              "75%       187.00       3.00       3.00  ...           1.0       1.0   50750.00\n",
              "max       249.00       3.00       4.00  ...           1.0       1.0   77975.00\n",
              "\n",
              "[8 rows x 16 columns]"
            ]
          },
          "metadata": {
            "tags": []
          },
          "execution_count": 78
        }
      ]
    },
    {
      "cell_type": "markdown",
      "metadata": {
        "id": "cabc2JdKZ7ab",
        "colab_type": "text"
      },
      "source": [
        "**Matriz de correlação** \n",
        "\n",
        "O coeficiente de correlação é uma medida de associação linear entre duas variáveis e situa-se entre -1 e +1 sendo que -1 indica associação negativa perfeita e +1 indica associação positiva perfeita.\n",
        "\n",
        "**Observe as correlações entre as variáveis:**\n",
        "\n",
        "\n",
        " \n",
        "\n",
        "*   Quais são mais correlacionadas com a variável dependente (Preço)?\n",
        "\n",
        "*   Qual o relacionamento entre elas (positivo ou negativo)?\n",
        "*   Existe correlação forte entre as variáveis explicativas?\n",
        "\n",
        "\n"
      ]
    },
    {
      "cell_type": "code",
      "metadata": {
        "id": "1N4ImDuUeYwn",
        "colab_type": "code",
        "colab": {
          "base_uri": "https://localhost:8080/",
          "height": 571
        },
        "outputId": "1e45960c-6e03-47ec-f902-70fca74cae2f"
      },
      "source": [
        "dados.corr().round(4)"
      ],
      "execution_count": 79,
      "outputs": [
        {
          "output_type": "execute_result",
          "data": {
            "text/html": [
              "<div>\n",
              "<style scoped>\n",
              "    .dataframe tbody tr th:only-of-type {\n",
              "        vertical-align: middle;\n",
              "    }\n",
              "\n",
              "    .dataframe tbody tr th {\n",
              "        vertical-align: top;\n",
              "    }\n",
              "\n",
              "    .dataframe thead th {\n",
              "        text-align: right;\n",
              "    }\n",
              "</style>\n",
              "<table border=\"1\" class=\"dataframe\">\n",
              "  <thead>\n",
              "    <tr style=\"text-align: right;\">\n",
              "      <th></th>\n",
              "      <th>Area</th>\n",
              "      <th>Garage</th>\n",
              "      <th>FirePlace</th>\n",
              "      <th>Baths</th>\n",
              "      <th>White Marble</th>\n",
              "      <th>Black Marble</th>\n",
              "      <th>Indian Marble</th>\n",
              "      <th>Floors</th>\n",
              "      <th>City</th>\n",
              "      <th>Solar</th>\n",
              "      <th>Electric</th>\n",
              "      <th>Fiber</th>\n",
              "      <th>Glass Doors</th>\n",
              "      <th>Swiming Pool</th>\n",
              "      <th>Garden</th>\n",
              "      <th>Prices</th>\n",
              "    </tr>\n",
              "  </thead>\n",
              "  <tbody>\n",
              "    <tr>\n",
              "      <th>Area</th>\n",
              "      <td>1.0000</td>\n",
              "      <td>-0.0009</td>\n",
              "      <td>0.0004</td>\n",
              "      <td>-0.0004</td>\n",
              "      <td>0.0025</td>\n",
              "      <td>-0.0015</td>\n",
              "      <td>-0.0010</td>\n",
              "      <td>-0.0008</td>\n",
              "      <td>-0.0035</td>\n",
              "      <td>0.0005</td>\n",
              "      <td>-0.0001</td>\n",
              "      <td>0.0001</td>\n",
              "      <td>-0.0012</td>\n",
              "      <td>0.0006</td>\n",
              "      <td>0.0014</td>\n",
              "      <td>0.1477</td>\n",
              "    </tr>\n",
              "    <tr>\n",
              "      <th>Garage</th>\n",
              "      <td>-0.0009</td>\n",
              "      <td>1.0000</td>\n",
              "      <td>0.0013</td>\n",
              "      <td>-0.0036</td>\n",
              "      <td>0.0005</td>\n",
              "      <td>0.0018</td>\n",
              "      <td>-0.0024</td>\n",
              "      <td>-0.0009</td>\n",
              "      <td>0.0008</td>\n",
              "      <td>0.0015</td>\n",
              "      <td>0.0008</td>\n",
              "      <td>-0.0006</td>\n",
              "      <td>-0.0022</td>\n",
              "      <td>0.0011</td>\n",
              "      <td>-0.0007</td>\n",
              "      <td>0.1003</td>\n",
              "    </tr>\n",
              "    <tr>\n",
              "      <th>FirePlace</th>\n",
              "      <td>0.0004</td>\n",
              "      <td>0.0013</td>\n",
              "      <td>1.0000</td>\n",
              "      <td>0.0006</td>\n",
              "      <td>0.0010</td>\n",
              "      <td>-0.0009</td>\n",
              "      <td>-0.0000</td>\n",
              "      <td>0.0002</td>\n",
              "      <td>-0.0002</td>\n",
              "      <td>-0.0003</td>\n",
              "      <td>0.0013</td>\n",
              "      <td>0.0018</td>\n",
              "      <td>-0.0004</td>\n",
              "      <td>0.0013</td>\n",
              "      <td>0.0002</td>\n",
              "      <td>0.0891</td>\n",
              "    </tr>\n",
              "    <tr>\n",
              "      <th>Baths</th>\n",
              "      <td>-0.0004</td>\n",
              "      <td>-0.0036</td>\n",
              "      <td>0.0006</td>\n",
              "      <td>1.0000</td>\n",
              "      <td>0.0025</td>\n",
              "      <td>-0.0027</td>\n",
              "      <td>0.0002</td>\n",
              "      <td>-0.0009</td>\n",
              "      <td>-0.0009</td>\n",
              "      <td>-0.0008</td>\n",
              "      <td>0.0010</td>\n",
              "      <td>-0.0007</td>\n",
              "      <td>-0.0017</td>\n",
              "      <td>0.0022</td>\n",
              "      <td>0.0017</td>\n",
              "      <td>0.1451</td>\n",
              "    </tr>\n",
              "    <tr>\n",
              "      <th>White Marble</th>\n",
              "      <td>0.0025</td>\n",
              "      <td>0.0005</td>\n",
              "      <td>0.0010</td>\n",
              "      <td>0.0025</td>\n",
              "      <td>1.0000</td>\n",
              "      <td>-0.4989</td>\n",
              "      <td>-0.5007</td>\n",
              "      <td>0.0001</td>\n",
              "      <td>-0.0009</td>\n",
              "      <td>-0.0016</td>\n",
              "      <td>0.0006</td>\n",
              "      <td>-0.0006</td>\n",
              "      <td>-0.0004</td>\n",
              "      <td>-0.0019</td>\n",
              "      <td>0.0010</td>\n",
              "      <td>0.4482</td>\n",
              "    </tr>\n",
              "    <tr>\n",
              "      <th>Black Marble</th>\n",
              "      <td>-0.0015</td>\n",
              "      <td>0.0018</td>\n",
              "      <td>-0.0009</td>\n",
              "      <td>-0.0027</td>\n",
              "      <td>-0.4989</td>\n",
              "      <td>1.0000</td>\n",
              "      <td>-0.5004</td>\n",
              "      <td>-0.0004</td>\n",
              "      <td>-0.0003</td>\n",
              "      <td>0.0018</td>\n",
              "      <td>-0.0005</td>\n",
              "      <td>0.0001</td>\n",
              "      <td>0.0001</td>\n",
              "      <td>0.0007</td>\n",
              "      <td>0.0001</td>\n",
              "      <td>-0.0780</td>\n",
              "    </tr>\n",
              "    <tr>\n",
              "      <th>Indian Marble</th>\n",
              "      <td>-0.0010</td>\n",
              "      <td>-0.0024</td>\n",
              "      <td>-0.0000</td>\n",
              "      <td>0.0002</td>\n",
              "      <td>-0.5007</td>\n",
              "      <td>-0.5004</td>\n",
              "      <td>1.0000</td>\n",
              "      <td>0.0003</td>\n",
              "      <td>0.0012</td>\n",
              "      <td>-0.0002</td>\n",
              "      <td>-0.0000</td>\n",
              "      <td>0.0005</td>\n",
              "      <td>0.0003</td>\n",
              "      <td>0.0012</td>\n",
              "      <td>-0.0011</td>\n",
              "      <td>-0.3698</td>\n",
              "    </tr>\n",
              "    <tr>\n",
              "      <th>Floors</th>\n",
              "      <td>-0.0008</td>\n",
              "      <td>-0.0009</td>\n",
              "      <td>0.0002</td>\n",
              "      <td>-0.0009</td>\n",
              "      <td>0.0001</td>\n",
              "      <td>-0.0004</td>\n",
              "      <td>0.0003</td>\n",
              "      <td>1.0000</td>\n",
              "      <td>-0.0006</td>\n",
              "      <td>-0.0027</td>\n",
              "      <td>0.0001</td>\n",
              "      <td>0.0014</td>\n",
              "      <td>-0.0000</td>\n",
              "      <td>-0.0002</td>\n",
              "      <td>-0.0005</td>\n",
              "      <td>0.6195</td>\n",
              "    </tr>\n",
              "    <tr>\n",
              "      <th>City</th>\n",
              "      <td>-0.0035</td>\n",
              "      <td>0.0008</td>\n",
              "      <td>-0.0002</td>\n",
              "      <td>-0.0009</td>\n",
              "      <td>-0.0009</td>\n",
              "      <td>-0.0003</td>\n",
              "      <td>0.0012</td>\n",
              "      <td>-0.0006</td>\n",
              "      <td>1.0000</td>\n",
              "      <td>0.0005</td>\n",
              "      <td>0.0008</td>\n",
              "      <td>-0.0027</td>\n",
              "      <td>0.0008</td>\n",
              "      <td>0.0003</td>\n",
              "      <td>0.0012</td>\n",
              "      <td>0.2333</td>\n",
              "    </tr>\n",
              "    <tr>\n",
              "      <th>Solar</th>\n",
              "      <td>0.0005</td>\n",
              "      <td>0.0015</td>\n",
              "      <td>-0.0003</td>\n",
              "      <td>-0.0008</td>\n",
              "      <td>-0.0016</td>\n",
              "      <td>0.0018</td>\n",
              "      <td>-0.0002</td>\n",
              "      <td>-0.0027</td>\n",
              "      <td>0.0005</td>\n",
              "      <td>1.0000</td>\n",
              "      <td>0.0019</td>\n",
              "      <td>0.0002</td>\n",
              "      <td>-0.0008</td>\n",
              "      <td>-0.0005</td>\n",
              "      <td>-0.0043</td>\n",
              "      <td>0.0084</td>\n",
              "    </tr>\n",
              "    <tr>\n",
              "      <th>Electric</th>\n",
              "      <td>-0.0001</td>\n",
              "      <td>0.0008</td>\n",
              "      <td>0.0013</td>\n",
              "      <td>0.0010</td>\n",
              "      <td>0.0006</td>\n",
              "      <td>-0.0005</td>\n",
              "      <td>-0.0000</td>\n",
              "      <td>0.0001</td>\n",
              "      <td>0.0008</td>\n",
              "      <td>0.0019</td>\n",
              "      <td>1.0000</td>\n",
              "      <td>-0.0003</td>\n",
              "      <td>0.0011</td>\n",
              "      <td>0.0006</td>\n",
              "      <td>0.0008</td>\n",
              "      <td>0.0524</td>\n",
              "    </tr>\n",
              "    <tr>\n",
              "      <th>Fiber</th>\n",
              "      <td>0.0001</td>\n",
              "      <td>-0.0006</td>\n",
              "      <td>0.0018</td>\n",
              "      <td>-0.0007</td>\n",
              "      <td>-0.0006</td>\n",
              "      <td>0.0001</td>\n",
              "      <td>0.0005</td>\n",
              "      <td>0.0014</td>\n",
              "      <td>-0.0027</td>\n",
              "      <td>0.0002</td>\n",
              "      <td>-0.0003</td>\n",
              "      <td>1.0000</td>\n",
              "      <td>-0.0023</td>\n",
              "      <td>0.0041</td>\n",
              "      <td>-0.0000</td>\n",
              "      <td>0.4846</td>\n",
              "    </tr>\n",
              "    <tr>\n",
              "      <th>Glass Doors</th>\n",
              "      <td>-0.0012</td>\n",
              "      <td>-0.0022</td>\n",
              "      <td>-0.0004</td>\n",
              "      <td>-0.0017</td>\n",
              "      <td>-0.0004</td>\n",
              "      <td>0.0001</td>\n",
              "      <td>0.0003</td>\n",
              "      <td>-0.0000</td>\n",
              "      <td>0.0008</td>\n",
              "      <td>-0.0008</td>\n",
              "      <td>0.0011</td>\n",
              "      <td>-0.0023</td>\n",
              "      <td>1.0000</td>\n",
              "      <td>0.0004</td>\n",
              "      <td>0.0033</td>\n",
              "      <td>0.1820</td>\n",
              "    </tr>\n",
              "    <tr>\n",
              "      <th>Swiming Pool</th>\n",
              "      <td>0.0006</td>\n",
              "      <td>0.0011</td>\n",
              "      <td>0.0013</td>\n",
              "      <td>0.0022</td>\n",
              "      <td>-0.0019</td>\n",
              "      <td>0.0007</td>\n",
              "      <td>0.0012</td>\n",
              "      <td>-0.0002</td>\n",
              "      <td>0.0003</td>\n",
              "      <td>-0.0005</td>\n",
              "      <td>0.0006</td>\n",
              "      <td>0.0041</td>\n",
              "      <td>0.0004</td>\n",
              "      <td>1.0000</td>\n",
              "      <td>-0.0002</td>\n",
              "      <td>0.0018</td>\n",
              "    </tr>\n",
              "    <tr>\n",
              "      <th>Garden</th>\n",
              "      <td>0.0014</td>\n",
              "      <td>-0.0007</td>\n",
              "      <td>0.0002</td>\n",
              "      <td>0.0017</td>\n",
              "      <td>0.0010</td>\n",
              "      <td>0.0001</td>\n",
              "      <td>-0.0011</td>\n",
              "      <td>-0.0005</td>\n",
              "      <td>0.0012</td>\n",
              "      <td>-0.0043</td>\n",
              "      <td>0.0008</td>\n",
              "      <td>-0.0000</td>\n",
              "      <td>0.0033</td>\n",
              "      <td>-0.0002</td>\n",
              "      <td>1.0000</td>\n",
              "      <td>0.0015</td>\n",
              "    </tr>\n",
              "    <tr>\n",
              "      <th>Prices</th>\n",
              "      <td>0.1477</td>\n",
              "      <td>0.1003</td>\n",
              "      <td>0.0891</td>\n",
              "      <td>0.1451</td>\n",
              "      <td>0.4482</td>\n",
              "      <td>-0.0780</td>\n",
              "      <td>-0.3698</td>\n",
              "      <td>0.6195</td>\n",
              "      <td>0.2333</td>\n",
              "      <td>0.0084</td>\n",
              "      <td>0.0524</td>\n",
              "      <td>0.4846</td>\n",
              "      <td>0.1820</td>\n",
              "      <td>0.0018</td>\n",
              "      <td>0.0015</td>\n",
              "      <td>1.0000</td>\n",
              "    </tr>\n",
              "  </tbody>\n",
              "</table>\n",
              "</div>"
            ],
            "text/plain": [
              "                 Area  Garage  FirePlace  ...  Swiming Pool  Garden  Prices\n",
              "Area           1.0000 -0.0009     0.0004  ...        0.0006  0.0014  0.1477\n",
              "Garage        -0.0009  1.0000     0.0013  ...        0.0011 -0.0007  0.1003\n",
              "FirePlace      0.0004  0.0013     1.0000  ...        0.0013  0.0002  0.0891\n",
              "Baths         -0.0004 -0.0036     0.0006  ...        0.0022  0.0017  0.1451\n",
              "White Marble   0.0025  0.0005     0.0010  ...       -0.0019  0.0010  0.4482\n",
              "Black Marble  -0.0015  0.0018    -0.0009  ...        0.0007  0.0001 -0.0780\n",
              "Indian Marble -0.0010 -0.0024    -0.0000  ...        0.0012 -0.0011 -0.3698\n",
              "Floors        -0.0008 -0.0009     0.0002  ...       -0.0002 -0.0005  0.6195\n",
              "City          -0.0035  0.0008    -0.0002  ...        0.0003  0.0012  0.2333\n",
              "Solar          0.0005  0.0015    -0.0003  ...       -0.0005 -0.0043  0.0084\n",
              "Electric      -0.0001  0.0008     0.0013  ...        0.0006  0.0008  0.0524\n",
              "Fiber          0.0001 -0.0006     0.0018  ...        0.0041 -0.0000  0.4846\n",
              "Glass Doors   -0.0012 -0.0022    -0.0004  ...        0.0004  0.0033  0.1820\n",
              "Swiming Pool   0.0006  0.0011     0.0013  ...        1.0000 -0.0002  0.0018\n",
              "Garden         0.0014 -0.0007     0.0002  ...       -0.0002  1.0000  0.0015\n",
              "Prices         0.1477  0.1003     0.0891  ...        0.0018  0.0015  1.0000\n",
              "\n",
              "[16 rows x 16 columns]"
            ]
          },
          "metadata": {
            "tags": []
          },
          "execution_count": 79
        }
      ]
    },
    {
      "cell_type": "markdown",
      "metadata": {
        "id": "qM8aczMja34y",
        "colab_type": "text"
      },
      "source": [
        "# <font color='blue' style='font-size: 30px;'>Comportamento da Variável Dependente (Y)**bold text**</font><hr style='border: 2px solid blue;'>"
      ]
    },
    {
      "cell_type": "markdown",
      "metadata": {
        "id": "eykHhgjVcNfi",
        "colab_type": "text"
      },
      "source": [
        "# Análises gráficas"
      ]
    },
    {
      "cell_type": "code",
      "metadata": {
        "id": "KjbxzmdJeY9q",
        "colab_type": "code",
        "colab": {}
      },
      "source": [
        "import seaborn as sns"
      ],
      "execution_count": 0,
      "outputs": []
    },
    {
      "cell_type": "code",
      "metadata": {
        "id": "eg6lepeeeZAd",
        "colab_type": "code",
        "colab": {}
      },
      "source": [
        "# palette -> Accent, Accent_r, Blues, Blues_r, BrBG, BrBG_r, BuGn, BuGn_r, BuPu, BuPu_r, CMRmap, CMRmap_r, Dark2, Dark2_r, GnBu, GnBu_r, Greens, Greens_r, Greys, Greys_r, OrRd, OrRd_r, Oranges, Oranges_r, PRGn, PRGn_r, Paired, Paired_r, Pastel1, Pastel1_r, Pastel2, Pastel2_r, PiYG, PiYG_r, PuBu, PuBuGn, PuBuGn_r, PuBu_r, PuOr, PuOr_r, PuRd, PuRd_r, Purples, Purples_r, RdBu, RdBu_r, RdGy, RdGy_r, RdPu, RdPu_r, RdYlBu, RdYlBu_r, RdYlGn, RdYlGn_r, Reds, Reds_r, Set1, Set1_r, Set2, Set2_r, Set3, Set3_r, Spectral, Spectral_r, Wistia, Wistia_r, YlGn, YlGnBu, YlGnBu_r, YlGn_r, YlOrBr, YlOrBr_r, YlOrRd, YlOrRd_r, afmhot, afmhot_r, autumn, autumn_r, binary, binary_r, bone, bone_r, brg, brg_r, bwr, bwr_r, cividis, cividis_r, cool, cool_r, coolwarm, coolwarm_r, copper, copper_r, cubehelix, cubehelix_r, flag, flag_r, gist_earth, gist_earth_r, gist_gray, gist_gray_r, gist_heat, gist_heat_r, gist_ncar, gist_ncar_r, gist_rainbow, gist_rainbow_r, gist_stern, gist_stern_r, gist_yarg, gist_yarg_r, gnuplot, gnuplot2, gnuplot2_r, gnuplot_r, gray, gray_r, hot, hot_r, hsv, hsv_r, icefire, icefire_r, inferno, inferno_r, jet, jet_r, magma, magma_r, mako, mako_r, nipy_spectral, nipy_spectral_r, ocean, ocean_r, pink, pink_r, plasma, plasma_r, prism, prism_r, rainbow, rainbow_r, rocket, rocket_r, seismic, seismic_r, spring, spring_r, summer, summer_r, tab10, tab10_r, tab20, tab20_r, tab20b, tab20b_r, tab20c, tab20c_r, terrain, terrain_r, viridis, viridis_r, vlag, vlag_r, winter, winter_r\n",
        "sns.set_palette(\"Accent\")\n",
        "\n",
        "# style -> white, dark, whitegrid, darkgrid, ticks\n",
        "sns.set_style(\"darkgrid\")"
      ],
      "execution_count": 0,
      "outputs": []
    },
    {
      "cell_type": "markdown",
      "metadata": {
        "id": "DHLKHa7DdEpV",
        "colab_type": "text"
      },
      "source": [
        "**Box plot da variável dependente (y)**\n",
        "\n",
        "\n",
        "Avaliando o comportamento da distribuição da variável dependente:\n",
        "\n",
        "Parecem existir valores discrepantes (outliers)?\n",
        "\n",
        "O box plot apresenta alguma tendência?\n"
      ]
    },
    {
      "cell_type": "code",
      "metadata": {
        "id": "eOJxFwU6cjIF",
        "colab_type": "code",
        "colab": {
          "base_uri": "https://localhost:8080/",
          "height": 413
        },
        "outputId": "63f8074f-b9b5-4a23-a03c-963ce2dab0bb"
      },
      "source": [
        "ax = sns.boxplot(data=dados['Prices'], orient='v', width=0.2)\n",
        "ax.figure.set_size_inches(12, 6)\n",
        "ax.set_title('Preço dos Imóveis', fontsize=20)\n",
        "ax.set_ylabel('$', fontsize=16)\n",
        "ax"
      ],
      "execution_count": 41,
      "outputs": [
        {
          "output_type": "execute_result",
          "data": {
            "text/plain": [
              "<matplotlib.axes._subplots.AxesSubplot at 0x7f5364be4898>"
            ]
          },
          "metadata": {
            "tags": []
          },
          "execution_count": 41
        },
        {
          "output_type": "display_data",
          "data": {
            "image/png": "[encoded data removed]",
            "text/plain": [
              "<Figure size 864x432 with 1 Axes>"
            ]
          },
          "metadata": {
            "tags": []
          }
        }
      ]
    },
    {
      "cell_type": "markdown",
      "metadata": {
        "id": "HRui7od1hTJ_",
        "colab_type": "text"
      },
      "source": [
        "**Investigando a variável dependente (y) juntamente com outras característica**\n",
        " \n",
        "\n",
        "Fazendo um box plot da variável dependente em conjunto com cada variável explicativa (somente as categóricas).\n",
        "\n",
        "Avalie o comportamento da distribuição da variável dependente com cada variável explicativa categórica:\n",
        "\n",
        "    As estatísticas apresentam mudança significativa entre as categorias?\n",
        "    O box plot apresenta alguma tendência bem definida?"
      ]
    },
    {
      "cell_type": "markdown",
      "metadata": {
        "id": "N2uPXpoehrSn",
        "colab_type": "text"
      },
      "source": [
        "**Box-plot(Preço X Garagem)**"
      ]
    },
    {
      "cell_type": "code",
      "metadata": {
        "id": "CkDCf5Bdglfx",
        "colab_type": "code",
        "colab": {
          "base_uri": "https://localhost:8080/",
          "height": 433
        },
        "outputId": "9a6eead8-c5cd-46fd-fab3-38e89690a781"
      },
      "source": [
        "ax = sns.boxplot(y='Prices', x='Garage', data=dados, orient='v' , width=0.5)\n",
        "ax.figure.set_size_inches(12, 6)\n",
        "ax.set_title('Preço dos Imóveis', fontsize=20)\n",
        "ax.set_ylabel('$', fontsize=16)\n",
        "ax.set_xlabel('Número de Vagas de Garagem', fontsize=16)\n",
        "ax"
      ],
      "execution_count": 58,
      "outputs": [
        {
          "output_type": "execute_result",
          "data": {
            "text/plain": [
              "<matplotlib.axes._subplots.AxesSubplot at 0x7f5363f127b8>"
            ]
          },
          "metadata": {
            "tags": []
          },
          "execution_count": 58
        },
        {
          "output_type": "display_data",
          "data": {
            "image/png": "[encoded data removed]",
            "text/plain": [
              "<Figure size 864x432 with 1 Axes>"
            ]
          },
          "metadata": {
            "tags": []
          }
        }
      ]
    },
    {
      "cell_type": "markdown",
      "metadata": {
        "id": "Anj5FoRHj4ay",
        "colab_type": "text"
      },
      "source": [
        "**Box-plot(Preço x Banheiros)**"
      ]
    },
    {
      "cell_type": "code",
      "metadata": {
        "id": "1dZRIos_gllv",
        "colab_type": "code",
        "colab": {
          "base_uri": "https://localhost:8080/",
          "height": 432
        },
        "outputId": "43fe92ab-d7d6-4e24-e246-5ffd0386959d"
      },
      "source": [
        "ax = sns.boxplot(y='Prices', x='Baths', data=dados, orient='v', width=0.5)\n",
        "ax.figure.set_size_inches(12, 6)\n",
        "ax.set_title('Preços dos Imóveis', fontsize=20)\n",
        "ax.set_ylabel('$', fontsize=16)\n",
        "ax.set_xlabel('Número de Banheiros', fontsize=16)\n",
        "ax"
      ],
      "execution_count": 61,
      "outputs": [
        {
          "output_type": "execute_result",
          "data": {
            "text/plain": [
              "<matplotlib.axes._subplots.AxesSubplot at 0x7f5363eb7cf8>"
            ]
          },
          "metadata": {
            "tags": []
          },
          "execution_count": 61
        },
        {
          "output_type": "display_data",
          "data": {
            "image/png": "[encoded data removed]",
            "text/plain": [
              "<Figure size 864x432 with 1 Axes>"
            ]
          },
          "metadata": {
            "tags": []
          }
        }
      ]
    },
    {
      "cell_type": "markdown",
      "metadata": {
        "id": "7YDrjQeOnk5W",
        "colab_type": "text"
      },
      "source": [
        "**Box-plot (Preço X Lareira)**"
      ]
    },
    {
      "cell_type": "code",
      "metadata": {
        "id": "zQLzk2eVgloj",
        "colab_type": "code",
        "colab": {
          "base_uri": "https://localhost:8080/",
          "height": 432
        },
        "outputId": "bae5856c-df29-4d5d-a877-2c9220d7eac0"
      },
      "source": [
        "ax = sns.boxplot(y='Prices', x='FirePlace', data=dados, orient='v', width=0.5)\n",
        "ax.figure.set_size_inches(12, 6)\n",
        "ax.set_title('Preço dos Imóveis', fontsize=20)\n",
        "ax.set_ylabel('$', fontsize=16)\n",
        "ax.set_xlabel('Número de Lareiras', fontsize=16)\n",
        "ax"
      ],
      "execution_count": 63,
      "outputs": [
        {
          "output_type": "execute_result",
          "data": {
            "text/plain": [
              "<matplotlib.axes._subplots.AxesSubplot at 0x7f53642a1278>"
            ]
          },
          "metadata": {
            "tags": []
          },
          "execution_count": 63
        },
        {
          "output_type": "display_data",
          "data": {
            "image/png": "[encoded data removed]",
            "text/plain": [
              "<Figure size 864x432 with 1 Axes>"
            ]
          },
          "metadata": {
            "tags": []
          }
        }
      ]
    },
    {
      "cell_type": "markdown",
      "metadata": {
        "id": "4heCLD9e17QV",
        "colab_type": "text"
      },
      "source": [
        "**Box-plot (Preço X Acabamento em Mármore)**"
      ]
    },
    {
      "cell_type": "code",
      "metadata": {
        "id": "1pxfe5gTgluP",
        "colab_type": "code",
        "colab": {
          "base_uri": "https://localhost:8080/",
          "height": 432
        },
        "outputId": "77edb7b0-4446-4128-e8c9-60da617224fe"
      },
      "source": [
        "ax = sns.boxplot(y='Prices', x='Black Marble', data=dados, orient='v', width=0.5)\n",
        "ax.figure.set_size_inches(12, 6)\n",
        "ax.set_title('Preço dos Imóveis', fontsize=20)\n",
        "ax.set_ylabel('$', fontsize=16)\n",
        "ax.set_xlabel('Acabamento em Mármore', fontsize=16)\n",
        "ax"
      ],
      "execution_count": 83,
      "outputs": [
        {
          "output_type": "execute_result",
          "data": {
            "text/plain": [
              "<matplotlib.axes._subplots.AxesSubplot at 0x7f5361379cc0>"
            ]
          },
          "metadata": {
            "tags": []
          },
          "execution_count": 83
        },
        {
          "output_type": "display_data",
          "data": {
            "image/png": "[encoded data removed]",
            "text/plain": [
              "<Figure size 864x432 with 1 Axes>"
            ]
          },
          "metadata": {
            "tags": []
          }
        }
      ]
    },
    {
      "cell_type": "markdown",
      "metadata": {
        "id": "QpOitIf87CLJ",
        "colab_type": "text"
      },
      "source": [
        "**Box-plot (Preço X Andares)**"
      ]
    },
    {
      "cell_type": "code",
      "metadata": {
        "id": "H9nJmNptgl0W",
        "colab_type": "code",
        "colab": {
          "base_uri": "https://localhost:8080/",
          "height": 432
        },
        "outputId": "92dc4a5c-4eec-4466-cd74-047e28968877"
      },
      "source": [
        "ax = sns.boxplot(y='Prices', x='Floors', data=dados, orient='v', width=0.5)\n",
        "ax.figure.set_size_inches(12, 6)\n",
        "ax.set_title('Preço dos Imóveis', fontsize=20)\n",
        "ax.set_ylabel('$', fontsize=16)\n",
        "ax.set_xlabel('Mais de um Andar', fontsize=16)\n",
        "ax"
      ],
      "execution_count": 84,
      "outputs": [
        {
          "output_type": "execute_result",
          "data": {
            "text/plain": [
              "<matplotlib.axes._subplots.AxesSubplot at 0x7f53613545c0>"
            ]
          },
          "metadata": {
            "tags": []
          },
          "execution_count": 84
        },
        {
          "output_type": "display_data",
          "data": {
            "image/png": "[encoded data removed]",
            "text/plain": [
              "<Figure size 864x432 with 1 Axes>"
            ]
          },
          "metadata": {
            "tags": []
          }
        }
      ]
    },
    {
      "cell_type": "markdown",
      "metadata": {
        "id": "-l0rzGYv_IDr",
        "colab_type": "text"
      },
      "source": [
        "**Distribuição de frequências da variável dependente (y)**\n",
        "\n",
        "Construção de um histograma da variável dependente (Preço).\n",
        "\n",
        "**Avaliando:**\n",
        "\n",
        "\n",
        "\n",
        "*   A distribuição de frequências da variável dependente parece ser assimétrica?\n",
        "*   É possível supor que a variável dependente segue uma distribuição normal?\n",
        "\n"
      ]
    },
    {
      "cell_type": "code",
      "metadata": {
        "id": "XPESFm3Ngl6b",
        "colab_type": "code",
        "colab": {
          "base_uri": "https://localhost:8080/",
          "height": 432
        },
        "outputId": "4c491458-b975-4ea7-8d98-427ad0907873"
      },
      "source": [
        "ax = sns.distplot(dados['Prices'])\n",
        "ax.figure.set_size_inches(12, 6)\n",
        "ax.set_title('Distribuição de Frequências', fontsize=20)\n",
        "ax.set_ylabel('Frequências', fontsize=16)\n",
        "ax.set_xlabel('$', fontsize=16)\n",
        "ax"
      ],
      "execution_count": 85,
      "outputs": [
        {
          "output_type": "execute_result",
          "data": {
            "text/plain": [
              "<matplotlib.axes._subplots.AxesSubplot at 0x7f5361327400>"
            ]
          },
          "metadata": {
            "tags": []
          },
          "execution_count": 85
        },
        {
          "output_type": "display_data",
          "data": {
            "image/png": "[encoded data removed]",
            "text/plain": [
              "<Figure size 864x432 with 1 Axes>"
            ]
          },
          "metadata": {
            "tags": []
          }
        }
      ]
    },
    {
      "cell_type": "markdown",
      "metadata": {
        "id": "QOgOvDaI_wsQ",
        "colab_type": "text"
      },
      "source": [
        "**Gráficos de dispersão entre as variáveis do dataset**\n",
        "\n",
        "**Plotando o pairplot fixando somente uma variável no eixo y**\n",
        "\n",
        "https://seaborn.pydata.org/generated/seaborn.pairplot.html?highlight=pairplot#seaborn.pairplot\n",
        "\n",
        "Plote gráficos de dispersão da variável dependente contra cada variável explicativa. Utilize o pairplot da biblioteca seaborn para isso.\n",
        "\n",
        "Plote o mesmo gráfico utilizando o parâmetro kind='reg'.\n",
        "\n",
        "**Avaliando:**\n",
        "\n",
        "\n",
        "\n",
        "*   É possível identificar alguma relação linear entre as variáveis?\n",
        "*   A relação é positiva ou negativa?\n",
        "*   Compare com os resultados obtidos na matriz de correlação.\n",
        "\n",
        "\n",
        "\n",
        "\n",
        "\n"
      ]
    },
    {
      "cell_type": "code",
      "metadata": {
        "id": "jFmgERBPgmAI",
        "colab_type": "code",
        "colab": {
          "base_uri": "https://localhost:8080/",
          "height": 226
        },
        "outputId": "e695d7f3-948e-454d-b748-833b787e09aa"
      },
      "source": [
        "ax = sns.pairplot(dados, y_vars='Prices', x_vars=['Area','Garage', 'Baths', 'FirePlace', 'Black Marble', 'Floors'])\n",
        "ax.fig.suptitle('Dispersão entre as Variáveis', fontsize=20, y=1.05)\n",
        "ax"
      ],
      "execution_count": 90,
      "outputs": [
        {
          "output_type": "execute_result",
          "data": {
            "text/plain": [
              "<seaborn.axisgrid.PairGrid at 0x7f535e571828>"
            ]
          },
          "metadata": {
            "tags": []
          },
          "execution_count": 90
        },
        {
          "output_type": "display_data",
          "data": {
            "image/png": "[encoded data removed]",
            "text/plain": [
              "<Figure size 1080x180 with 6 Axes>"
            ]
          },
          "metadata": {
            "tags": []
          }
        }
      ]
    },
    {
      "cell_type": "markdown",
      "metadata": {
        "id": "PMIRtqULC0R5",
        "colab_type": "text"
      },
      "source": [
        "**Importando o *train_test_split* da biblioteca *scikit-learn***\n",
        "\n",
        "https://scikit-learn.org/stable/modules/generated/sklearn.model_selection.train_test_split.html"
      ]
    },
    {
      "cell_type": "code",
      "metadata": {
        "id": "6kiIxA8iCpGx",
        "colab_type": "code",
        "colab": {}
      },
      "source": [
        "from sklearn.model_selection import train_test_split"
      ],
      "execution_count": 0,
      "outputs": []
    },
    {
      "cell_type": "markdown",
      "metadata": {
        "id": "Xvfw-5ajDARB",
        "colab_type": "text"
      },
      "source": [
        "**Criando uma Series (pandas) para armazenar a variável dependente (y)**"
      ]
    },
    {
      "cell_type": "code",
      "metadata": {
        "id": "h9t0LDS4CpKg",
        "colab_type": "code",
        "colab": {}
      },
      "source": [
        "y = dados['Prices']"
      ],
      "execution_count": 0,
      "outputs": []
    },
    {
      "cell_type": "markdown",
      "metadata": {
        "id": "0IkjwxYZDKUJ",
        "colab_type": "text"
      },
      "source": [
        "**Criando um DataFrame (pandas) para armazenar as variáveis explicativas (X)**"
      ]
    },
    {
      "cell_type": "code",
      "metadata": {
        "id": "oUN6WwrTCpYl",
        "colab_type": "code",
        "colab": {}
      },
      "source": [
        "X = dados[['Area', 'Garage', 'Baths', 'FirePlace', 'Black Marble', 'Floors']]"
      ],
      "execution_count": 0,
      "outputs": []
    },
    {
      "cell_type": "markdown",
      "metadata": {
        "id": "3TGh8bPPDUlQ",
        "colab_type": "text"
      },
      "source": [
        "**Criando os datasets de treino e de teste**"
      ]
    },
    {
      "cell_type": "code",
      "metadata": {
        "id": "wEj46uZKCper",
        "colab_type": "code",
        "colab": {}
      },
      "source": [
        "X_train, X_test, y_train, y_test = train_test_split(X, y, test_size=0.3, random_state=2811)"
      ],
      "execution_count": 0,
      "outputs": []
    },
    {
      "cell_type": "markdown",
      "metadata": {
        "id": "4Z6brH05Da1J",
        "colab_type": "text"
      },
      "source": [
        "**Importando LinearRegression e metrics da biblioteca scikit-learn**\n",
        "\n",
        "https://scikit-learn.org/stable/modules/generated/sklearn.linear_model.LinearRegression.html\n",
        "\n",
        "https://scikit-learn.org/stable/modules/classes.html#regression-metrics"
      ]
    },
    {
      "cell_type": "code",
      "metadata": {
        "id": "jBD8CTJcgmTY",
        "colab_type": "code",
        "colab": {}
      },
      "source": [
        "from sklearn.linear_model import LinearRegression\n",
        "from sklearn import metrics"
      ],
      "execution_count": 0,
      "outputs": []
    },
    {
      "cell_type": "markdown",
      "metadata": {
        "id": "uPspJcrhDmk7",
        "colab_type": "text"
      },
      "source": [
        "**Instanciando a classe LinearRegression()**"
      ]
    },
    {
      "cell_type": "code",
      "metadata": {
        "id": "WK6J4RkyDd4v",
        "colab_type": "code",
        "colab": {}
      },
      "source": [
        "modelo = LinearRegression()"
      ],
      "execution_count": 0,
      "outputs": []
    },
    {
      "cell_type": "markdown",
      "metadata": {
        "id": "yiJnMoacDvbw",
        "colab_type": "text"
      },
      "source": [
        "**Utilizando o método fit() para estimar o modelo linear utilizando os dados de TREINO (y_train e X_train)**\n",
        "\n",
        "https://scikit-learn.org/stable/modules/generated/sklearn.linear_model.LinearRegression.html#sklearn.linear_model.LinearRegression.fit"
      ]
    },
    {
      "cell_type": "code",
      "metadata": {
        "id": "YsA8DbKgDd-a",
        "colab_type": "code",
        "colab": {
          "base_uri": "https://localhost:8080/",
          "height": 34
        },
        "outputId": "ebc3f5c7-2f7d-4fe1-df34-7586b9d90bcf"
      },
      "source": [
        "modelo.fit(X_train, y_train)"
      ],
      "execution_count": 104,
      "outputs": [
        {
          "output_type": "execute_result",
          "data": {
            "text/plain": [
              "LinearRegression(copy_X=True, fit_intercept=True, n_jobs=None, normalize=False)"
            ]
          },
          "metadata": {
            "tags": []
          },
          "execution_count": 104
        }
      ]
    },
    {
      "cell_type": "markdown",
      "metadata": {
        "id": "AJ3DzSAHGlez",
        "colab_type": "text"
      },
      "source": [
        "**Obtendo o coeficiente de determinação (R²) do modelo estimado com os dados de TREINO**\n",
        "\n",
        "https://scikit-learn.org/stable/modules/generated/sklearn.linear_model.LinearRegression.html#sklearn.linear_model.LinearRegression.score\n",
        "\n",
        "Avalie:\n",
        "\n",
        "O modelo apresenta um bom ajuste?\n",
        "\n",
        "Você lembra o que representa o R²?\n",
        "\n",
        "Qual medida podemos tomar para melhorar essa estatística?"
      ]
    },
    {
      "cell_type": "code",
      "metadata": {
        "id": "RHgN3Vp3DeEd",
        "colab_type": "code",
        "colab": {
          "base_uri": "https://localhost:8080/",
          "height": 34
        },
        "outputId": "f425df60-0845-412b-f4c1-fd8b44ba8790"
      },
      "source": [
        "print('R² = {}'.format(modelo.score(X_train, y_train).round(2)))"
      ],
      "execution_count": 105,
      "outputs": [
        {
          "output_type": "stream",
          "text": [
            "R² = 0.45\n"
          ],
          "name": "stdout"
        }
      ]
    },
    {
      "cell_type": "markdown",
      "metadata": {
        "id": "N2L1DY6RHE37",
        "colab_type": "text"
      },
      "source": [
        "**Gerando previsões para os dados de TESTE (X_test) utilizando o método predict()**"
      ]
    },
    {
      "cell_type": "code",
      "metadata": {
        "id": "GVgExSXgHGX5",
        "colab_type": "code",
        "colab": {}
      },
      "source": [
        "y_previsto = modelo.predict(X_test)"
      ],
      "execution_count": 0,
      "outputs": []
    },
    {
      "cell_type": "markdown",
      "metadata": {
        "id": "6LIV5GeEHMds",
        "colab_type": "text"
      },
      "source": [
        "**Obtendo o coeficiente de determinação (R²) para as previsões do nosso modelo**"
      ]
    },
    {
      "cell_type": "code",
      "metadata": {
        "id": "IzIm5vN7HPJh",
        "colab_type": "code",
        "colab": {
          "base_uri": "https://localhost:8080/",
          "height": 34
        },
        "outputId": "21dd6ccc-10f7-4e9a-8d55-569c47bd6ca4"
      },
      "source": [
        "print('R² = %s' % metrics.r2_score(y_test, y_previsto).round(2))"
      ],
      "execution_count": 109,
      "outputs": [
        {
          "output_type": "stream",
          "text": [
            "R² = 0.45\n"
          ],
          "name": "stdout"
        }
      ]
    },
    {
      "cell_type": "markdown",
      "metadata": {
        "id": "QLk49EovIOpA",
        "colab_type": "text"
      },
      "source": [
        "**Criando um simulador simples**\n",
        "\n",
        "Criando um simulador que gere estimativas de preço a partir de um conjunto de informações de um imóvel."
      ]
    },
    {
      "cell_type": "code",
      "metadata": {
        "id": "1myBO4WSHYK3",
        "colab_type": "code",
        "colab": {
          "base_uri": "https://localhost:8080/",
          "height": 34
        },
        "outputId": "a9fa1d03-e0af-4c40-d678-bbe87c872c3b"
      },
      "source": [
        "area=38\n",
        "garagem=2\n",
        "banheiros=4\n",
        "lareira=4\n",
        "marmore=0\n",
        "andares=1\n",
        "\n",
        "entrada=[[area, garagem, banheiros, lareira, marmore, andares]]\n",
        "\n",
        "print('$ {0:.2f}'.format(modelo.predict(entrada)[0]))"
      ],
      "execution_count": 111,
      "outputs": [
        {
          "output_type": "stream",
          "text": [
            "$ 50822.08\n"
          ],
          "name": "stdout"
        }
      ]
    },
    {
      "cell_type": "markdown",
      "metadata": {
        "id": "h7vtlludId8_",
        "colab_type": "text"
      },
      "source": [
        "## Métricas da regressão\n",
        "<hr>\n",
        "\n",
        "fonte: https://scikit-learn.org/stable/modules/model_evaluation.html#regression-metrics\n",
        "\n",
        "Algumas estatísticas obtidas do modelo de regressão são muito úteis como critério de comparação entre modelos estimados e de seleção do melhor modelo, as principais métricas de regressão que o scikit-learn disponibiliza para modelos lineares são as seguintes:\n",
        "\n",
        "### Erro Quadrático Médio\n",
        "\n",
        "Média dos quadrados dos erros. Ajustes melhores apresentam $EQM$ mais baixo.\n",
        "\n",
        "$$EQM(y, \\hat{y}) = \\frac 1n\\sum_{i=0}^{n-1}(y_i-\\hat{y}_i)^2$$\n",
        "\n",
        "### Raíz do Erro Quadrático Médio\n",
        "\n",
        "Raíz quadrada da média dos quadrados dos erros. Ajustes melhores apresentam $\\sqrt{EQM}$ mais baixo.\n",
        "\n",
        "$$\\sqrt{EQM(y, \\hat{y})} = \\sqrt{\\frac 1n\\sum_{i=0}^{n-1}(y_i-\\hat{y}_i)^2}$$\n",
        "\n",
        "### Coeficiente de Determinação - R²\n",
        "\n",
        "O coeficiente de determinação (R²) é uma medida resumida que diz quanto a linha de regressão ajusta-se aos dados. É um valor entra 0 e 1.\n",
        "\n",
        "$$R^2(y, \\hat{y}) = 1 - \\frac {\\sum_{i=0}^{n-1}(y_i-\\hat{y}_i)^2}{\\sum_{i=0}^{n-1}(y_i-\\bar{y}_i)^2}$$\n",
        "\n",
        "```\n",
        "# This is formatted as code\n",
        "```\n",
        "\n",
        "\n"
      ]
    },
    {
      "cell_type": "markdown",
      "metadata": {
        "id": "DSzLQl9wJgLm",
        "colab_type": "text"
      },
      "source": [
        "**Obtendo métricas para o modelo com Temperatura Máxima**"
      ]
    },
    {
      "cell_type": "code",
      "metadata": {
        "id": "-fBxND1uHYTx",
        "colab_type": "code",
        "colab": {
          "base_uri": "https://localhost:8080/",
          "height": 136
        },
        "outputId": "3577fe9c-a27f-44e1-bf3d-a564ea0e0c96"
      },
      "source": [
        "EQM = metrics.mean_squared_error(y_test, y_previsto).round(2)\n",
        "REQM = np.sqrt(metrics.mean_squared_error(y_test, y_previsto)).round(2)\n",
        "R2 = metrics.r2_score(y_test, y_previsto).round(2)\n",
        "\n",
        "pd.DataFrame([EQM, REQM, R2], ['EQM', 'REQM', 'R²'], columns=['Métricas'])"
      ],
      "execution_count": 112,
      "outputs": [
        {
          "output_type": "execute_result",
          "data": {
            "text/html": [
              "<div>\n",
              "<style scoped>\n",
              "    .dataframe tbody tr th:only-of-type {\n",
              "        vertical-align: middle;\n",
              "    }\n",
              "\n",
              "    .dataframe tbody tr th {\n",
              "        vertical-align: top;\n",
              "    }\n",
              "\n",
              "    .dataframe thead th {\n",
              "        text-align: right;\n",
              "    }\n",
              "</style>\n",
              "<table border=\"1\" class=\"dataframe\">\n",
              "  <thead>\n",
              "    <tr style=\"text-align: right;\">\n",
              "      <th></th>\n",
              "      <th>Métricas</th>\n",
              "    </tr>\n",
              "  </thead>\n",
              "  <tbody>\n",
              "    <tr>\n",
              "      <th>EQM</th>\n",
              "      <td>80546639.99</td>\n",
              "    </tr>\n",
              "    <tr>\n",
              "      <th>REQM</th>\n",
              "      <td>8974.78</td>\n",
              "    </tr>\n",
              "    <tr>\n",
              "      <th>R²</th>\n",
              "      <td>0.45</td>\n",
              "    </tr>\n",
              "  </tbody>\n",
              "</table>\n",
              "</div>"
            ],
            "text/plain": [
              "         Métricas\n",
              "EQM   80546639.99\n",
              "REQM      8974.78\n",
              "R²           0.45"
            ]
          },
          "metadata": {
            "tags": []
          },
          "execution_count": 112
        }
      ]
    },
    {
      "cell_type": "markdown",
      "metadata": {
        "id": "YwtonFn_JzZ9",
        "colab_type": "text"
      },
      "source": [
        "**Salvando e Carregando o Modelo Estimado**"
      ]
    },
    {
      "cell_type": "markdown",
      "metadata": {
        "id": "jprnTE5VJpE1",
        "colab_type": "text"
      },
      "source": [
        "Importando a biblioteca pickle"
      ]
    },
    {
      "cell_type": "code",
      "metadata": {
        "id": "RA4MXmSxJvuD",
        "colab_type": "code",
        "colab": {}
      },
      "source": [
        "import pickle"
      ],
      "execution_count": 0,
      "outputs": []
    },
    {
      "cell_type": "markdown",
      "metadata": {
        "id": "CTgigslRJ72E",
        "colab_type": "text"
      },
      "source": [
        "**Salvando o modelo estimado**"
      ]
    },
    {
      "cell_type": "code",
      "metadata": {
        "id": "1Kh_Bk5BJ2cU",
        "colab_type": "code",
        "colab": {}
      },
      "source": [
        "output = open('modelo_preço', 'wb')\n",
        "pickle.dump(modelo, output)\n",
        "output.close()"
      ],
      "execution_count": 0,
      "outputs": []
    },
    {
      "cell_type": "code",
      "metadata": {
        "id": "k2LvxS1uJ2fi",
        "colab_type": "code",
        "colab": {
          "base_uri": "https://localhost:8080/",
          "height": 34
        },
        "outputId": "a856ceae-bfe8-4f2b-c4d8-d884ed3109b9"
      },
      "source": [
        "modelo = open('modelo_preço','rb')\n",
        "lm_new = pickle.load(modelo)\n",
        "modelo.close()\n",
        "\n",
        "area = 38\n",
        "garagem = 2\n",
        "banheiros = 4\n",
        "lareira = 4\n",
        "marmore = 0\n",
        "andares = 1\n",
        "\n",
        "entrada = [[area, garagem, banheiros, lareira, marmore, andares]]\n",
        "\n",
        "print('$ {0:.2f}'.format(lm_new.predict(entrada)[0]))"
      ],
      "execution_count": 115,
      "outputs": [
        {
          "output_type": "stream",
          "text": [
            "$ 50822.08\n"
          ],
          "name": "stdout"
        }
      ]
    }
  ]
}